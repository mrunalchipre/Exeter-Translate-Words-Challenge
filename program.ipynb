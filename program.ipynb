{
 "cells": [
  {
   "cell_type": "markdown",
   "id": "e43b371b",
   "metadata": {},
   "source": [
    "Import necessary modules"
   ]
  },
  {
   "cell_type": "code",
   "execution_count": 1,
   "id": "afada857",
   "metadata": {},
   "outputs": [],
   "source": [
    "import time\n",
    "start_time=time.time();"
   ]
  },
  {
   "cell_type": "markdown",
   "id": "d85ca3fe",
   "metadata": {},
   "source": [
    "Open the data file in read mode"
   ]
  },
  {
   "cell_type": "code",
   "execution_count": 2,
   "id": "79ce2fac",
   "metadata": {},
   "outputs": [],
   "source": [
    "file = open(r\"C:\\Users\\admin\\Desktop\\Exeter\\1\\t8.shakespeare.txt\")"
   ]
  },
  {
   "cell_type": "code",
   "execution_count": 3,
   "id": "79bf283f",
   "metadata": {},
   "outputs": [],
   "source": [
    "line = file.read()\n",
    "file.close()"
   ]
  },
  {
   "cell_type": "code",
   "execution_count": 4,
   "id": "a14056f6",
   "metadata": {},
   "outputs": [],
   "source": [
    "import re"
   ]
  },
  {
   "cell_type": "markdown",
   "id": "950aaaeb",
   "metadata": {},
   "source": [
    "Count frequency of each word in text file"
   ]
  },
  {
   "cell_type": "code",
   "execution_count": 5,
   "id": "92ab8037",
   "metadata": {},
   "outputs": [],
   "source": [
    "def countFrequency(text,d):\n",
    "    for key in d:\n",
    "        with open(\"t8.shakespeare.txt\") as file:\n",
    "            for line in file:\n",
    "                for word in line.split():\n",
    "                    if key == word:\n",
    "                        d[key]= d[key]+1"
   ]
  },
  {
   "cell_type": "markdown",
   "id": "4dbf7ccc",
   "metadata": {},
   "source": [
    "Creating a function to replace words"
   ]
  },
  {
   "cell_type": "code",
   "execution_count": 6,
   "id": "2945a490",
   "metadata": {},
   "outputs": [],
   "source": [
    "def multiwordReplace(text, wordDic):    \n",
    "    rc = re.compile('|'.join(map(re.escape, wordDic)))\n",
    "    def translate(match):\n",
    "        return wordDic[match.group(0)]\n",
    "    return rc.sub(translate, text)"
   ]
  },
  {
   "cell_type": "markdown",
   "id": "8744cb7a",
   "metadata": {},
   "source": [
    "Reading the dctionary to find which words to be replaced"
   ]
  },
  {
   "cell_type": "code",
   "execution_count": 27,
   "id": "5ba4d647",
   "metadata": {},
   "outputs": [],
   "source": [
    "import csv\n",
    "reader = csv.reader(open(r'C:\\Users\\admin\\Desktop\\Exeter\\1\\french_dictionary.csv', 'r'))\n",
    "mydict = {}\n",
    "for row in reader:\n",
    "   key1, value = row\n",
    "   mydict[key1] = value"
   ]
  },
  {
   "cell_type": "markdown",
   "id": "8281c5ac",
   "metadata": {},
   "source": [
    "Replacing the words "
   ]
  },
  {
   "cell_type": "code",
   "execution_count": 9,
   "id": "c6e2cec4",
   "metadata": {},
   "outputs": [],
   "source": [
    "str2 = multiwordReplace(line, mydict)"
   ]
  },
  {
   "cell_type": "markdown",
   "id": "c3e8e64b",
   "metadata": {},
   "source": [
    "Storing the replaced/translated data in another file"
   ]
  },
  {
   "cell_type": "code",
   "execution_count": 10,
   "id": "2d6c4bfc",
   "metadata": {},
   "outputs": [],
   "source": [
    "f = open(r'C:\\Users\\admin\\Desktop\\Exeter\\1\\shakespeare_translated.txt', \"w\")\n",
    "f.write(str2)\n",
    "f.close()"
   ]
  },
  {
   "cell_type": "markdown",
   "id": "54502faa",
   "metadata": {},
   "source": [
    "reading the required words file and counting frequency"
   ]
  },
  {
   "cell_type": "code",
   "execution_count": 28,
   "id": "c0b8db39",
   "metadata": {},
   "outputs": [],
   "source": [
    "d = {}\n",
    "with open(\"find_words.txt\") as f:\n",
    "    for line in f:\n",
    "       key = line.rstrip(\"\\n\")\n",
    "       d[key] = 0"
   ]
  },
  {
   "cell_type": "code",
   "execution_count": 29,
   "id": "526f0f4c",
   "metadata": {},
   "outputs": [],
   "source": [
    "countFrequency(f,d)"
   ]
  },
  {
   "cell_type": "markdown",
   "id": "a0ef5cb9",
   "metadata": {},
   "source": [
    "Creating a new CSV file which consists of 3 columns,\n",
    "1. English Words\n",
    "2. French Words\n",
    "3. Frequency (No. of replacements)"
   ]
  },
  {
   "cell_type": "code",
   "execution_count": 31,
   "id": "54f7c06a",
   "metadata": {},
   "outputs": [],
   "source": [
    "import csv\n",
    "fields= ['English word','French word','Frequency'] \n",
    "rows=[]\n",
    "for key in d:\n",
    "    rows.append([[key,mydict[key],d[key]]])"
   ]
  },
  {
   "cell_type": "code",
   "execution_count": 14,
   "id": "47f35390",
   "metadata": {},
   "outputs": [],
   "source": [
    "filename=r\"C:\\Users\\admin\\Desktop\\Exeter\\1\\frequency.csv\""
   ]
  },
  {
   "cell_type": "code",
   "execution_count": 15,
   "id": "e5bd6b89",
   "metadata": {},
   "outputs": [],
   "source": [
    "import pandas as pd\n",
    "engwords=[]\n",
    "frenchwords=[]\n",
    "frequency=[]\n",
    "for key in d.keys():\n",
    "    engwords.append(key)\n",
    "    frenchwords.append(mydict[key])\n",
    "    frequency.append(d[key])"
   ]
  },
  {
   "cell_type": "code",
   "execution_count": 16,
   "id": "1a398570",
   "metadata": {},
   "outputs": [],
   "source": [
    "finalDF={'English words':engwords,'French words':frenchwords,'Frequency':frequency}\n",
    "df= pd.DataFrame(finalDF)"
   ]
  },
  {
   "cell_type": "markdown",
   "id": "c839ce98",
   "metadata": {},
   "source": [
    "Storing the values in frequency.csv file"
   ]
  },
  {
   "cell_type": "code",
   "execution_count": 17,
   "id": "88dcd7f0",
   "metadata": {},
   "outputs": [],
   "source": [
    "df.to_csv('frequency.csv')"
   ]
  },
  {
   "cell_type": "markdown",
   "id": "b499e5d1",
   "metadata": {},
   "source": [
    "Calculating the Processing time and Memory Utilization and storing it in performance.txt file"
   ]
  },
  {
   "cell_type": "code",
   "execution_count": 32,
   "id": "b49df8a5",
   "metadata": {},
   "outputs": [],
   "source": [
    "time_taken = time.time()-start_time\n",
    "memory_taken = psutil.cpu_percent(time_taken)\n",
    "f = open(\"performance.txt\", \"w\")\n",
    "f.write(f'Processing Time: {time_taken} seconds\\n Memory Utilization: {memory_taken} MB')\n",
    "f.close()"
   ]
  },
  {
   "cell_type": "code",
   "execution_count": null,
   "id": "6add3cc6",
   "metadata": {},
   "outputs": [],
   "source": []
  }
 ],
 "metadata": {
  "kernelspec": {
   "display_name": "Python 3",
   "language": "python",
   "name": "python3"
  },
  "language_info": {
   "codemirror_mode": {
    "name": "ipython",
    "version": 3
   },
   "file_extension": ".py",
   "mimetype": "text/x-python",
   "name": "python",
   "nbconvert_exporter": "python",
   "pygments_lexer": "ipython3",
   "version": "3.8.3"
  }
 },
 "nbformat": 4,
 "nbformat_minor": 5
}
